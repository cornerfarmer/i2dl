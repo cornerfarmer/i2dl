{
 "cells": [
  {
   "cell_type": "markdown",
   "metadata": {},
   "source": [
    "Semantic Segmentation \n",
    "============\n",
    "\n",
    "In this exercise you are going to work on a computer vision task called semantic segmentation. In comparison to image classification the goal is not to classify an entire image but each of its pixels separately. This implies that the  output of the network is not a single scalar but a segmentation with the same shape as the input image. Think about why you should rather use convolutional than fully-connected layers for this task!\n",
    "\n",
    "Since we already introduced the basics of PyTorch and how to train a NN we leave the model design and architecture as well as the training up to you. We only provide you with the train, validation and test dataset and recommend you to look for inspirational, existing PyTorch implementations. Due to the fairly small size of the segmentation dataset you should not train a model from scratch but consider to (at least partially) finetune weights of an already exsisting model.\n",
    "\n",
    "The infamous  [Fully Convolutional Networks for Semantic Segmentation](https://people.eecs.berkeley.edu/~jonlong/long_shelhamer_fcn.pdf) paper might help you with finding a suitable segmentation model and architecture.\n",
    "\n",
    "<img src=\"https://camo.githubusercontent.com/d10b897e15344334e449104a824aff6c29125dc2/687474703a2f2f63616c76696e2e696e662e65642e61632e756b2f77702d636f6e74656e742f75706c6f6164732f646174612f636f636f7374756666646174617365742f636f636f73747566662d6578616d706c65732e706e67\">"
   ]
  },
  {
   "cell_type": "code",
   "execution_count": 1,
   "metadata": {},
   "outputs": [],
   "source": [
    "import numpy as np\n",
    "import matplotlib.pyplot as plt\n",
    "import torch\n",
    "\n",
    "from exercise_code.data_utils import SegmentationData, label_img_to_rgb\n",
    "from torchvision import transforms\n",
    "#torch.set_default_tensor_type('torch.FloatTensor')\n",
    "#set up default cuda device\n",
    "device = torch.device(\"cuda:0\" if torch.cuda.is_available() else \"cpu\")\n",
    "\n",
    "%matplotlib inline\n",
    "plt.rcParams['figure.figsize'] = (10.0, 8.0) # set default size of plots\n",
    "plt.rcParams['image.interpolation'] = 'nearest'\n",
    "plt.rcParams['image.cmap'] = 'gray'\n",
    "\n",
    "# for auto-reloading external modules\n",
    "# see http://stackoverflow.com/questions/1907993/autoreload-of-modules-in-ipython\n",
    "%load_ext autoreload\n",
    "%autoreload 2"
   ]
  },
  {
   "cell_type": "markdown",
   "metadata": {},
   "source": [
    "MSRC-v2 Segmentation Dataset\n",
    "================\n",
    "\n",
    "Make yourself familiar with the segmentation dataset and how we implemented the `SegmentationData` class in `exercise_code/data_utils.py`. Furthermore have a look at the labels described in `data/segmentation_data/info.html`. Especially note the label `unlabeled`. Pixels with the label `unlabeled` should neither be considered in your loss nor in the accuracy of your segmentation."
   ]
  },
  {
   "cell_type": "code",
   "execution_count": 2,
   "metadata": {},
   "outputs": [],
   "source": [
    "\n",
    "normalize = transforms.Normalize(mean=[0.485, 0.456, 0.406], std=[0.229, 0.224, 0.225])\n",
    "\n",
    "transforms_train = transforms.Compose([\n",
    "            transforms.RandomResizedCrop(224),\n",
    "            transforms.RandomHorizontalFlip(),\n",
    "            normalize,\n",
    "])\n",
    "\n",
    "transforms_val = transforms.Compose([\n",
    "            #transforms.Resize(256),\n",
    "            transforms.CenterCrop(224)\n",
    "])\n",
    "\n",
    "train_data = SegmentationData(image_paths_file='datasets/segmentation_data/train.txt', transforms=transforms_val, transform_normalizer=normalize)\n",
    "val_data = SegmentationData(image_paths_file='datasets/segmentation_data/val.txt', transforms=transforms_val, transform_normalizer=normalize)"
   ]
  },
  {
   "cell_type": "code",
   "execution_count": 3,
   "metadata": {},
   "outputs": [
    {
     "name": "stdout",
     "output_type": "stream",
     "text": [
      "Train size: 276\n",
      "Validation size: 59\n",
      "Img size:  torch.Size([3, 224, 224])\n",
      "Segmentation size:  torch.Size([224, 224])\n"
     ]
    },
    {
     "data": {
      "image/png": "[encoded data removed]",
      "text/plain": [
       "<matplotlib.figure.Figure at 0x7f7309e90128>"
      ]
     },
     "metadata": {},
     "output_type": "display_data"
    }
   ],
   "source": [
    "print(\"Train size: %i\" % len(train_data))\n",
    "print(\"Validation size: %i\" % len(val_data))\n",
    "print(\"Img size: \", train_data[0][0].size())\n",
    "print(\"Segmentation size: \", train_data[0][1].size())\n",
    "\n",
    "num_example_imgs = 3\n",
    "plt.figure(figsize=(10, 5 * num_example_imgs))\n",
    "for i, (img, target) in enumerate(train_data[:num_example_imgs]):\n",
    "    # img\n",
    "    plt.subplot(num_example_imgs, 2, i * 2 + 1)\n",
    "    #plt.imshow(img.numpy().transpose(1,2,0))\n",
    "    plt.axis('off')\n",
    "    if i == 0:\n",
    "        plt.title(\"Input image\")\n",
    "    \n",
    "    # target\n",
    "    plt.subplot(num_example_imgs, 2, i * 2 + 2)\n",
    "    plt.imshow(label_img_to_rgb(target.numpy()))\n",
    "    plt.axis('off')\n",
    "    if i == 0:\n",
    "        plt.title(\"Target image\")\n",
    "plt.show()"
   ]
  },
  {
   "cell_type": "code",
   "execution_count": 4,
   "metadata": {},
   "outputs": [
    {
     "data": {
      "text/plain": [
       "array([-1, 14])"
      ]
     },
     "execution_count": 4,
     "metadata": {},
     "output_type": "execute_result"
    }
   ],
   "source": [
    " np.unique(train_data[0][1])"
   ]
  },
  {
   "cell_type": "markdown",
   "metadata": {},
   "source": [
    "Design and Train your Network\n",
    "==========\n",
    "\n",
    "Implement your network architecture in `exercise_code/classifiers/segmentation_nn.py` and adapt your `Solver` to process segmentation labels. To compensate for the dimension reduction of a typical convolution layer, you should probably include a `nn.Upsample` layer near the end of your network. Also remember to consider finetuning a model instead of training it from scratch.\n",
    "\n",
    "Up until now we only used the default loss function (`nn.CrossEntropyLoss`) of our `Solver` class. However, in order to ignore the `unlabeled` pixels for the computation of our loss, we have to use a customized version of the loss for the initializtation of the `Solver` class. The `ignore_index` argument of the loss can be used to filter the `unlabeled` pixels and computes the loss only over remaining pixels.\n",
    "\n",
    "Step by step:\n",
    "1. Initialize training and validation data loaders.\n",
    "2. Design and initialize a convolutional neural network architecture that has input (N, C, H, W) and output (N, num_classes, H, W) and is based on an already pretrained network.\n",
    "3. Initialize a solver with a loss function that considers the `unlabeled` pixels.\n",
    "4. Adjust the logging of your solver to account for the `unlabeled` pixels.\n",
    "5. Train a segmentation model."
   ]
  },
  {
   "cell_type": "code",
   "execution_count": 10,
   "metadata": {
    "scrolled": false
   },
   "outputs": [],
   "source": [
    "from exercise_code.segmentation_nn import SegmentationNN\n",
    "from exercise_code.solver import Solver\n",
    "import torch.nn.functional as F\n",
    "\n",
    "\n",
    "train_loader = torch.utils.data.DataLoader(train_data, batch_size=3, shuffle=False, num_workers=1, )\n",
    "val_loader = torch.utils.data.DataLoader(val_data, batch_size=1, shuffle=False, num_workers=1)\n",
    "\n",
    "model = SegmentationNN()\n",
    "#model.to(device)\n",
    "model.eval()\n",
    "out = model.forward(next(iter(train_loader))[0])\n",
    "#olver = Solver(optim_args={\"lr\": 1e-4, \"weight_decay\": 0.001},\n",
    "#               loss_func=torch.nn.CrossEntropyLoss(size_average=True, ignore_index=-1))\n",
    "#olver.train(model, train_loader, val_loader, log_nth=5, num_epochs=5)"
   ]
  },
  {
   "cell_type": "code",
   "execution_count": 11,
   "metadata": {},
   "outputs": [],
   "source": [
    "model.transform()\n",
    "model.eval()\n",
    "conv_out = model.forward(next(iter(train_loader))[0])"
   ]
  },
  {
   "cell_type": "code",
   "execution_count": 13,
   "metadata": {},
   "outputs": [
    {
     "data": {
      "text/plain": [
       "(tensor([[ 0.0138,  0.1040,  0.0241,  ..., -0.1014,  0.0030, -0.0271],\n",
       "         [ 0.0113,  0.1025,  0.0528,  ..., -0.1151,  0.0166, -0.0159],\n",
       "         [-0.0062,  0.0703,  0.0282,  ..., -0.0642,  0.0171, -0.0395]]),\n",
       " tensor([[[[ 0.0138]],\n",
       " \n",
       "          [[ 0.1040]],\n",
       " \n",
       "          [[ 0.0241]],\n",
       " \n",
       "          ...,\n",
       " \n",
       "          [[-0.1014]],\n",
       " \n",
       "          [[ 0.0030]],\n",
       " \n",
       "          [[-0.0271]]],\n",
       " \n",
       " \n",
       "         [[[ 0.0113]],\n",
       " \n",
       "          [[ 0.1025]],\n",
       " \n",
       "          [[ 0.0528]],\n",
       " \n",
       "          ...,\n",
       " \n",
       "          [[-0.1151]],\n",
       " \n",
       "          [[ 0.0166]],\n",
       " \n",
       "          [[-0.0159]]],\n",
       " \n",
       " \n",
       "         [[[-0.0062]],\n",
       " \n",
       "          [[ 0.0703]],\n",
       " \n",
       "          [[ 0.0282]],\n",
       " \n",
       "          ...,\n",
       " \n",
       "          [[-0.0642]],\n",
       " \n",
       "          [[ 0.0171]],\n",
       " \n",
       "          [[-0.0395]]]]))"
      ]
     },
     "execution_count": 13,
     "metadata": {},
     "output_type": "execute_result"
    }
   ],
   "source": [
    "out, conv_out"
   ]
  },
  {
   "cell_type": "code",
   "execution_count": 96,
   "metadata": {},
   "outputs": [
    {
     "data": {
      "text/plain": [
       "torch.Size([3, 1000])"
      ]
     },
     "execution_count": 96,
     "metadata": {},
     "output_type": "execute_result"
    }
   ],
   "source": [
    "out.size()"
   ]
  },
  {
   "cell_type": "code",
   "execution_count": 93,
   "metadata": {},
   "outputs": [],
   "source": [
    "input_arr = np.random.uniform(size=[64, 3, 224, 224])\n",
    "input_tensor = torch.from_numpy(input_arr).float()"
   ]
  },
  {
   "cell_type": "code",
   "execution_count": 73,
   "metadata": {},
   "outputs": [],
   "source": [
    "import torch.nn as nn\n",
    "\n",
    "input_dim = [512, 7, 7]\n",
    "fc = nn.Linear(512 * 7 * 7, 4096)\n",
    "\n",
    "conv = nn.Conv2d(input_dim[0], fc.out_features, (input_dim[1], input_dim[2]))"
   ]
  },
  {
   "cell_type": "code",
   "execution_count": 74,
   "metadata": {},
   "outputs": [],
   "source": [
    "fc_iter = iter(fc.parameters())\n",
    "for param in conv.parameters():\n",
    "    fc_param = next(fc_iter)\n",
    "    param.data = fc_param.data.view(param.size())\n",
    "    #print(param.data, fc_param.data)"
   ]
  },
  {
   "cell_type": "code",
   "execution_count": 75,
   "metadata": {},
   "outputs": [],
   "source": [
    "out_conv = conv.forward(input_tensor)\n",
    "out = fc.forward(input_tensor.view(input_tensor.size(0), -1))"
   ]
  },
  {
   "cell_type": "code",
   "execution_count": 76,
   "metadata": {},
   "outputs": [
    {
     "data": {
      "text/plain": [
       "(tensor([[[[ 2.0579e-01]],\n",
       " \n",
       "          [[-4.6571e-01]],\n",
       " \n",
       "          [[ 1.2199e-01]],\n",
       " \n",
       "          ...,\n",
       " \n",
       "          [[-1.8023e-01]],\n",
       " \n",
       "          [[ 4.5587e-01]],\n",
       " \n",
       "          [[-5.7426e-02]]],\n",
       " \n",
       " \n",
       "         [[[ 1.2194e-01]],\n",
       " \n",
       "          [[-4.0089e-02]],\n",
       " \n",
       "          [[ 3.7333e-01]],\n",
       " \n",
       "          ...,\n",
       " \n",
       "          [[-1.9693e-01]],\n",
       " \n",
       "          [[ 3.3550e-01]],\n",
       " \n",
       "          [[-1.5023e-01]]],\n",
       " \n",
       " \n",
       "         [[[ 8.3482e-02]],\n",
       " \n",
       "          [[ 1.8143e-01]],\n",
       " \n",
       "          [[ 2.9493e-01]],\n",
       " \n",
       "          ...,\n",
       " \n",
       "          [[ 9.4620e-02]],\n",
       " \n",
       "          [[ 1.9790e-01]],\n",
       " \n",
       "          [[-2.6955e-02]]],\n",
       " \n",
       " \n",
       "         ...,\n",
       " \n",
       " \n",
       "         [[[ 1.6464e-01]],\n",
       " \n",
       "          [[ 9.3154e-02]],\n",
       " \n",
       "          [[ 1.2330e-01]],\n",
       " \n",
       "          ...,\n",
       " \n",
       "          [[-2.5204e-01]],\n",
       " \n",
       "          [[ 3.3759e-01]],\n",
       " \n",
       "          [[ 9.2728e-02]]],\n",
       " \n",
       " \n",
       "         [[[ 9.7387e-02]],\n",
       " \n",
       "          [[ 2.3412e-01]],\n",
       " \n",
       "          [[-3.0171e-01]],\n",
       " \n",
       "          ...,\n",
       " \n",
       "          [[ 4.8796e-02]],\n",
       " \n",
       "          [[ 3.9944e-01]],\n",
       " \n",
       "          [[ 2.4381e-02]]],\n",
       " \n",
       " \n",
       "         [[[ 2.1467e-01]],\n",
       " \n",
       "          [[ 3.1634e-01]],\n",
       " \n",
       "          [[ 1.3512e-01]],\n",
       " \n",
       "          ...,\n",
       " \n",
       "          [[-1.9188e-01]],\n",
       " \n",
       "          [[ 2.9767e-01]],\n",
       " \n",
       "          [[ 5.6537e-02]]]]),\n",
       " tensor([[ 2.0579e-01, -4.6571e-01,  1.2199e-01,  ..., -1.8023e-01,\n",
       "           4.5587e-01, -5.7426e-02],\n",
       "         [ 1.2194e-01, -4.0089e-02,  3.7333e-01,  ..., -1.9693e-01,\n",
       "           3.3550e-01, -1.5023e-01],\n",
       "         [ 8.3481e-02,  1.8143e-01,  2.9493e-01,  ...,  9.4620e-02,\n",
       "           1.9790e-01, -2.6955e-02],\n",
       "         ...,\n",
       "         [ 1.6464e-01,  9.3154e-02,  1.2330e-01,  ..., -2.5204e-01,\n",
       "           3.3759e-01,  9.2728e-02],\n",
       "         [ 9.7387e-02,  2.3412e-01, -3.0171e-01,  ...,  4.8796e-02,\n",
       "           3.9944e-01,  2.4381e-02],\n",
       "         [ 2.1467e-01,  3.1634e-01,  1.3512e-01,  ..., -1.9189e-01,\n",
       "           2.9767e-01,  5.6537e-02]]))"
      ]
     },
     "execution_count": 76,
     "metadata": {},
     "output_type": "execute_result"
    }
   ],
   "source": [
    "out_conv, out"
   ]
  },
  {
   "cell_type": "code",
   "execution_count": 87,
   "metadata": {},
   "outputs": [
    {
     "name": "stdout",
     "output_type": "stream",
     "text": [
      "1 Sequential(\n",
      "  (0): Linear(in_features=25088, out_features=4096, bias=True)\n",
      "  (1): ReLU(inplace)\n",
      "  (2): Dropout(p=0.5)\n",
      "  (3): Linear(in_features=4096, out_features=4096, bias=True)\n",
      "  (4): ReLU(inplace)\n",
      "  (5): Dropout(p=0.5)\n",
      "  (6): Linear(in_features=4096, out_features=1000, bias=True)\n",
      ")\n",
      "1 Linear(in_features=25088, out_features=4096, bias=True)\n",
      "1 ReLU(inplace)\n",
      "1 Dropout(p=0.5)\n",
      "1 Linear(in_features=4096, out_features=4096, bias=True)\n",
      "1 ReLU(inplace)\n",
      "1 Dropout(p=0.5)\n",
      "1 Linear(in_features=4096, out_features=1000, bias=True)\n"
     ]
    }
   ],
   "source": [
    "for module in model.model_ft.classifier.modules().ipynb_checkpoints/:\n",
    "    print(1, module)"
   ]
  },
  {
   "cell_type": "markdown",
   "metadata": {},
   "source": [
    "# Test your Model\n",
    "\n",
    "Your model should easily yield a pixel accuracy of more than 60%."
   ]
  },
  {
   "cell_type": "code",
   "execution_count": 35,
   "metadata": {},
   "outputs": [
    {
     "data": {
      "text/plain": [
       "0.6148128790759186"
      ]
     },
     "execution_count": 35,
     "metadata": {},
     "output_type": "execute_result"
    }
   ],
   "source": [
    "test_data = SegmentationData(image_paths_file='datasets/segmentation_data_test/test.txt', transforms=transforms_val, transform_normalizer=normalize)\n",
    "test_loader = torch.utils.data.DataLoader(test_data,\n",
    "                                          batch_size=1,\n",
    "                                          shuffle=False,\n",
    "                                          num_workers=1)\n",
    "\n",
    "test_scores = []\n",
    "model.eval()\n",
    "for inputs, targets in test_loader:\n",
    "    inputs, targets = inputs.to(device), targets.to(device)\n",
    "    \n",
    "    outputs = model.forward(inputs)\n",
    "    _, preds = torch.max(outputs, 1)\n",
    "    targets_mask = targets >= 0\n",
    "    test_scores.append(np.mean((preds == targets)[targets_mask].data.cpu().numpy()))\n",
    "    \n",
    "model.train()\n",
    "np.mean(test_scores)"
   ]
  },
  {
   "cell_type": "markdown",
   "metadata": {},
   "source": [
    "# Visualization"
   ]
  },
  {
   "cell_type": "code",
   "execution_count": 38,
   "metadata": {},
   "outputs": [
    {
     "data": {
      "image/png": "[encoded data removed]",
      "text/plain": [
       "<matplotlib.figure.Figure at 0x7f08d8daa390>"
      ]
     },
     "metadata": {},
     "output_type": "display_data"
    }
   ],
   "source": [
    "num_example_imgs = 4\n",
    "plt.figure(figsize=(15, 5 * num_example_imgs))\n",
    "for i, (img, target) in enumerate(test_data[:num_example_imgs]):\n",
    "    inputs = img.unsqueeze(0)\n",
    "    inputs = inputs.to(device)\n",
    "    \n",
    "    outputs = model.forward(inputs)\n",
    "    _, preds = torch.max(outputs, 1)\n",
    "    pred = preds[0].data.cpu()\n",
    "    \n",
    "    img, target, pred = img.numpy(), target.numpy(), pred.numpy()\n",
    "    \n",
    "    # img\n",
    "    plt.subplot(num_example_imgs, 3, i * 3 + 1)\n",
    "    plt.axis('off')\n",
    "    #plt.imshow(img.transpose(1,2,0))\n",
    "    if i == 0:\n",
    "        plt.title(\"Input image\")\n",
    "    \n",
    "    # target\n",
    "    plt.subplot(num_example_imgs, 3, i * 3 + 2)\n",
    "    plt.axis('off')\n",
    "    plt.imshow(label_img_to_rgb(target))\n",
    "    if i == 0:\n",
    "        plt.title(\"Target image\")\n",
    "\n",
    "    # pred\n",
    "    plt.subplot(num_example_imgs, 3, i * 3 + 3)\n",
    "    plt.axis('off')\n",
    "    plt.imshow(label_img_to_rgb(pred))\n",
    "    if i == 0:\n",
    "        plt.title(\"Prediction image\")\n",
    "    \n",
    "plt.show()"
   ]
  },
  {
   "cell_type": "markdown",
   "metadata": {},
   "source": [
    "## Visualize Filter Weights\n",
    "You can visualize the convolutional filters of the very first layer by running the following cell. The kernels should exhibit clear structures of differently oriented edges, corners and circles."
   ]
  },
  {
   "cell_type": "code",
   "execution_count": null,
   "metadata": {},
   "outputs": [],
   "source": [
    "from exercise_code.vis_utils import visualize_grid\n",
    "\n",
    "# first (next) parameter should be convolutional\n",
    "conv_params = next(model.parameters()).data.cpu().numpy()\n",
    "grid = visualize_grid(conv_params.transpose(0, 2, 3, 1))\n",
    "plt.imshow(grid.astype('uint8'))\n",
    "plt.axis('off')\n",
    "plt.gcf().set_size_inches(6, 6)\n",
    "plt.show()"
   ]
  },
  {
   "cell_type": "markdown",
   "metadata": {},
   "source": [
    "## Save the Model\n",
    "\n",
    "When you are satisfied with your training, save the model for submission."
   ]
  },
  {
   "cell_type": "code",
   "execution_count": null,
   "metadata": {},
   "outputs": [],
   "source": [
    "model.save(\"models/segmentation_nn.model\")"
   ]
  },
  {
   "cell_type": "markdown",
   "metadata": {},
   "source": [
    "## Possible Next Steps\n",
    "\n",
    "1. Implement and integrate a task specific metric such as [Intersection over Union (IoU)](http://www.pyimagesearch.com/2016/11/07/intersection-over-union-iou-for-object-detection/)\n",
    "2. Hyperparameter optimization\n",
    "3. Data augmentation ([PyTorch tutorial](http://pytorch.org/tutorials/beginner/data_loading_tutorial.html))"
   ]
  }
 ],
 "metadata": {
  "kernelspec": {
   "display_name": "Python 3",
   "language": "python",
   "name": "python3"
  },
  "language_info": {
   "codemirror_mode": {
    "name": "ipython",
    "version": 3
   },
   "file_extension": ".py",
   "mimetype": "text/x-python",
   "name": "python",
   "nbconvert_exporter": "python",
   "pygments_lexer": "ipython3",
   "version": "3.6.5"
  }
 },
 "nbformat": 4,
 "nbformat_minor": 2
}
